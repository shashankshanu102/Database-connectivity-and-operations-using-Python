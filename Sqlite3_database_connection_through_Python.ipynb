{
 "cells": [
  {
   "cell_type": "markdown",
   "metadata": {},
   "source": [
    "# Database connectivity and operations using Python.\n"
   ]
  },
  {
   "cell_type": "markdown",
   "metadata": {},
   "source": [
    "#### Step 1: Importing libraries"
   ]
  },
  {
   "cell_type": "code",
   "execution_count": 3,
   "metadata": {},
   "outputs": [],
   "source": [
    "#!/usr/bin/python\n",
    "\n",
    "# Importing sqlite3\n",
    "import sqlite3"
   ]
  },
  {
   "cell_type": "markdown",
   "metadata": {},
   "source": [
    "#### Step 2: Making connection "
   ]
  },
  {
   "cell_type": "code",
   "execution_count": 4,
   "metadata": {},
   "outputs": [],
   "source": [
    "# Connecting with the database.\n",
    "db = sqlite3.connect(\"my_database.db\")"
   ]
  },
  {
   "cell_type": "markdown",
   "metadata": {},
   "source": [
    "#### Step 3: Dropping table if exist already"
   ]
  },
  {
   "cell_type": "code",
   "execution_count": 5,
   "metadata": {},
   "outputs": [
    {
     "data": {
      "text/plain": [
       "<sqlite3.Cursor at 0x2293decbe30>"
      ]
     },
     "execution_count": 5,
     "metadata": {},
     "output_type": "execute_result"
    }
   ],
   "source": [
    "# Drop table if it already exist using execute() method.\n",
    "db.execute(\"drop table if exists student_grade\") # NOTE: what we write in \" \" are the queries"
   ]
  },
  {
   "cell_type": "markdown",
   "metadata": {},
   "source": [
    "#### Step 4: Creating table"
   ]
  },
  {
   "cell_type": "code",
   "execution_count": 6,
   "metadata": {},
   "outputs": [
    {
     "data": {
      "text/plain": [
       "<sqlite3.Cursor at 0x2293def60a0>"
      ]
     },
     "execution_count": 6,
     "metadata": {},
     "output_type": "execute_result"
    }
   ],
   "source": [
    "# Create table as per requirement\n",
    "db.execute(\"create table student_grade(id int, name text, score int)\")"
   ]
  },
  {
   "cell_type": "markdown",
   "metadata": {},
   "source": [
    "#### Step 5: Inserting values to the table"
   ]
  },
  {
   "cell_type": "code",
   "execution_count": 7,
   "metadata": {},
   "outputs": [
    {
     "data": {
      "text/plain": [
       "<sqlite3.Cursor at 0x2293def61f0>"
      ]
     },
     "execution_count": 7,
     "metadata": {},
     "output_type": "execute_result"
    }
   ],
   "source": [
    "#inserting values inside the created table one by one\n",
    "db.execute(\"insert into student_grade(id, name, score) values(101, 'Ayush',99 )\")\n",
    "db.execute(\"insert into student_grade(id, name, score) values(102, 'Sahil',90 )\")\n",
    "db.execute(\"insert into student_grade(id, name, score) values(103, 'Bhavuk', 80 )\")\n",
    "db.execute(\"insert into student_grade(id, name, score) values(104, 'Amit', 85 )\")\n",
    "db.execute(\"insert into student_grade(id, name, score) values(105, 'Vaibhav',95 )\")"
   ]
  },
  {
   "cell_type": "markdown",
   "metadata": {},
   "source": [
    "#### Step 6: Saving data permanetly to table"
   ]
  },
  {
   "cell_type": "code",
   "execution_count": 9,
   "metadata": {},
   "outputs": [],
   "source": [
    "## it is use to stored data permanently the table\n",
    "db.commit()"
   ]
  },
  {
   "cell_type": "markdown",
   "metadata": {},
   "source": [
    "# Let's see some query examples"
   ]
  },
  {
   "cell_type": "code",
   "execution_count": 16,
   "metadata": {},
   "outputs": [
    {
     "name": "stdout",
     "output_type": "stream",
     "text": [
      "(101, 'Ayush', 99)\n",
      "(102, 'Sahil', 90)\n",
      "(103, 'Bhavuk', 80)\n",
      "(104, 'Amit', 85)\n",
      "(105, 'Vaibhav', 95)\n",
      "____________________________________________________________________________________________________\n"
     ]
    }
   ],
   "source": [
    "result = db.execute(\"select * from student_grade order by id\")\n",
    "for row in result:\n",
    "    print(row)\n",
    "print(\"_\" * 100 )"
   ]
  },
  {
   "cell_type": "code",
   "execution_count": 17,
   "metadata": {},
   "outputs": [
    {
     "name": "stdout",
     "output_type": "stream",
     "text": [
      "(102, 'Sahil', 90)\n",
      "____________________________________________________________________________________________________\n"
     ]
    }
   ],
   "source": [
    "result = db.execute(\"select * from student_grade where name = 'Sahil' \")\n",
    "for row in result: \n",
    "    print(row)\n",
    "print(\"_\" * 100 )"
   ]
  },
  {
   "cell_type": "code",
   "execution_count": 18,
   "metadata": {},
   "outputs": [
    {
     "name": "stdout",
     "output_type": "stream",
     "text": [
      "(101, 'Ayush', 99)\n",
      "(102, 'Sahil', 90)\n",
      "(105, 'Vaibhav', 95)\n",
      "____________________________________________________________________________________________________\n"
     ]
    }
   ],
   "source": [
    "result = db.execute(\"select * from student_grade where score >= 90 \")\n",
    "for row in result:\n",
    "    print(row)\n",
    "print(\"_\" * 100 )"
   ]
  },
  {
   "cell_type": "code",
   "execution_count": 19,
   "metadata": {},
   "outputs": [
    {
     "name": "stdout",
     "output_type": "stream",
     "text": [
      "('Bhavuk', 80)\n",
      "('Amit', 85)\n",
      "('Sahil', 90)\n",
      "('Vaibhav', 95)\n",
      "('Ayush', 99)\n",
      "____________________________________________________________________________________________________\n"
     ]
    }
   ],
   "source": [
    "result = db.execute(\"select name, score from student_grade order by score asc \")\n",
    "for row in result:\n",
    "    print(row)\n",
    "print(\"_\" * 100 )"
   ]
  },
  {
   "cell_type": "code",
   "execution_count": 20,
   "metadata": {},
   "outputs": [
    {
     "name": "stdout",
     "output_type": "stream",
     "text": [
      "('Bhavuk', 80)\n",
      "('Amit', 85)\n",
      "('Sahil', 90)\n",
      "('Vaibhav', 95)\n",
      "('Ayush', 99)\n",
      "____________________________________________________________________________________________________\n"
     ]
    }
   ],
   "source": [
    "result = db.execute(\"select name, score from student_grade order by score\")\n",
    "for row in result:\n",
    "    print(row)\n",
    "print(\"_\" * 100 )"
   ]
  },
  {
   "cell_type": "code",
   "execution_count": 21,
   "metadata": {},
   "outputs": [
    {
     "name": "stdout",
     "output_type": "stream",
     "text": [
      "('Bhavuk', 80)\n",
      "('Amit', 85)\n",
      "('Sahil', 90)\n",
      "('Vaibhav', 95)\n",
      "('Ayush', 99)\n",
      "____________________________________________________________________________________________________\n"
     ]
    }
   ],
   "source": [
    "results = db.execute(\"select name, score from student_grade order by score\")\n",
    "for row in results:\n",
    "    print(row)\n",
    "print(\"_\" * 100 )"
   ]
  },
  {
   "cell_type": "code",
   "execution_count": null,
   "metadata": {},
   "outputs": [],
   "source": []
  }
 ],
 "metadata": {
  "kernelspec": {
   "display_name": "Python 3",
   "language": "python",
   "name": "python3"
  },
  "language_info": {
   "codemirror_mode": {
    "name": "ipython",
    "version": 3
   },
   "file_extension": ".py",
   "mimetype": "text/x-python",
   "name": "python",
   "nbconvert_exporter": "python",
   "pygments_lexer": "ipython3",
   "version": "3.7.3"
  }
 },
 "nbformat": 4,
 "nbformat_minor": 2
}
